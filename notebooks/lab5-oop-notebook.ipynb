{
 "cells": [
  {
   "cell_type": "markdown",
   "metadata": {},
   "source": [
    "# Lab 5: Object-Oriented Python"
   ]
  },
  {
   "cell_type": "markdown",
   "metadata": {},
   "source": [
    "## Overview\n",
    "\n",
    "After Tuesday's lecture, which mostly covered rules, definitions, and semantics, we'll be playing around with actual classes today, writing a fair chunk of code and building several classes to solve a variety of problems."
   ]
  },
  {
   "cell_type": "markdown",
   "metadata": {},
   "source": [
    "## Stanford Prereqs"
   ]
  },
  {
   "cell_type": "markdown",
   "metadata": {},
   "source": [
    "### Basic Class\n",
    "\n",
    "Let’s create a class to represent courses at Stanford! Copy the following into a file and save it as `courses.py`.\n",
    "\n",
    "```\n",
    "class StanfordCourse:\n",
    "    def __init__(self, department, code, title):\n",
    "        self.department = department\n",
    "        self.code = code\n",
    "        self.title = title\n",
    "```\n",
    "\n",
    "You can assume that all arguments to this constructor will be strings.\n",
    "\n",
    "We can import this class definition and create an instance of the class in the interacitve interpreter, by running:\n",
    "\n",
    "```\n",
    "$ python3\n",
    ">>> from courses import StanfordCourse\n",
    ">>> stanford_python = StanfordCourse(\"CS\", \"41\", \"hap.py code: The python programming language\")\n",
    "```\n",
    "\n",
    "We can access attributes of `stanford_python`, our instance object:\n",
    "\n",
    "```\n",
    ">>> from courses import StanfordCourse\n",
    ">>> stanford_python = StanfordCourse(\"CS\", \"41\", \"hap.py code: the python programming language\")\n",
    ">>> stanford_python.title\n",
    "'hap.py code: the python programming language'\n",
    ">>> stanford_python.code\n",
    "\"41\"\n",
    ">>>\n",
    "```\n"
   ]
  },
  {
   "cell_type": "markdown",
   "metadata": {},
   "source": [
    "### Inheritance\n",
    "\n",
    "Let’s add inheritance by creating a `StanfordCSCourse` class that takes an additional parameter `recorded` that defaults to `False`\n",
    "\n",
    "Write the following code snippet in the `courses.py` file:\n",
    "\n",
    "```\n",
    "class StanfordCSCourse(StanfordCourse):\n",
    "    def __init__(self, department, code, title, recorded=False):\n",
    "        super().__init__(department, code, title)\n",
    "        self.is_recorded = recorded\n",
    "```\n",
    "\n",
    "The `super()` call is a little bit of magic to us at this point - it builds an object described by the superclass, allowing us to call the `__init__` method on that object.\n",
    "\n",
    "Assess the following equalities in your Python interpreter. You can import both classes by running either one of the following lines in your terminal\n",
    "\n",
    "```\n",
    ">>> from courses import StanfordCourse, StanfordCSCourse\n",
    ">>> a = StanfordCourse(\"CS\", \"106A\", \"Programming Methodology\")\n",
    ">>> b = StanfordCSCourse(\"CS\", \"106B\", \"Programming Abstractions\")\n",
    ">>> x = StanfordCSCourse(\"CS\", \"106X\", \"Programming Abstractions\", recorded=True)\n",
    ">>> a.code\n",
    "\"106A\"\n",
    ">>> b.code\n",
    "\"106b\"\n",
    "```\n",
    "\n",
    "What is the output of the statements below?\n",
    "\n",
    "```\n",
    "type(a)\n",
    "isinstance(a, StanfordCourse)\n",
    "isinstance(b, StanfordCourse)\n",
    "isinstance(x, StanfordCourse)\n",
    "isinstance(x, StanfordCSCourse)\n",
    "type(a) == type(b)\n",
    "type(b) == type(x)\n",
    "a == b\n",
    "b == x\n",
    "```"
   ]
  },
  {
   "cell_type": "markdown",
   "metadata": {},
   "source": [
    "### Additional Attributes\n",
    "\n",
    "Let's add more functionality to the `StanfordCourse` class!\n",
    "\n",
    "* Add a attribute `students` to the instances of the `StanfordCourse` class that tracks whether students are present. Initially, students should be an empty set.\n",
    "* Create a method `mark_attendance(*students)` that takes a variadic number of `students` and marks them as present.\n",
    "* Create a method `is_present(student)` that takes a student’s name as a parameter and returns `True` if the student is present and `False` otherwise."
   ]
  },
  {
   "cell_type": "markdown",
   "metadata": {},
   "source": [
    "### Implementing Prerequisites\n",
    "\n",
    "Now, we'll focus on `StanfordCSCourse`. We want to implement functionality to determine if one computer science course is a prerequisite of another. In our implementation, we will assume that the ordering for courses is determined first by the numeric part of the course code: for example, `140` comes before `255`. If there is a tie, the ordering is determined by the default string ordering of the letters that follow. For example, `106A < 106B`. After implementing, you should be able to see:\n",
    "\n",
    "```\n",
    ">>> cs106a = StanfordCourse(\"CS\", \"106A\", \"Programming Methodology\")\n",
    ">>> cs106b = StanfordCSCourse(\"CS\", \"106B\", \"Programming Abstractions\")\n",
    ">>> cs107 = StanfordCSCourse(\"CS\", \"107\", \"Computer Organzation and Systems\")\n",
    ">>> cs110 = StanfordCSCourse(\"CS\", \"110\", \"Principles of Computer Systems\")\n",
    ">>> cs110 > cs106b\n",
    "True\n",
    ">>> cs107 > cs110\n",
    "False\n",
    "```\n",
    "\n",
    "To accomplish this, you will need to implement a magic method `__le__` that will add functionality to determine if a course is a prerequisite for another course. Read up on [total ordering](https://docs.python.org/3.4/library/functools.html#functools.total_ordering) to figure out what `__le__` should return based on the argument you pass in.\n",
    "\n",
    "To give a few hints on how to add this piece of functionality might be implemented, consider how you might extract the actual `int` number from the course code attribute.\n",
    "\n",
    "Additionally, you should implement a `__eq__` on `StanfordCourse`s. Two classes are equivalent if they are in the same department and have the same course code: the course title doesn't matter here."
   ]
  },
  {
   "cell_type": "markdown",
   "metadata": {},
   "source": [
    "#### Sorting\n",
    "\n",
    "Now that we've written a `__le__` method and an `__eq__` method, we've implemented everything we need to speak about an \"ordering\" of `StanfordCourse`s. Using the [`functools.total_ordering` decorator](https://docs.python.org/3.4/library/functools.html#functools.total_ordering), decorate the class so that all of the comparison methods are implemented. You should be able to run\n",
    "\n",
    "```\n",
    "# Let's make CS106A a CS course\n",
    "cs106a = StanfordCSCourse(\"CS\", \"106A\", \"Programming Methodology\")\n",
    "\n",
    "courses = [cs110, cs106a, cs107, cs106b]\n",
    "courses.sort()\n",
    "courses # => [cs106a, cs106b, cs107, cs110]\n",
    "```\n"
   ]
  },
  {
   "cell_type": "markdown",
   "metadata": {},
   "source": [
    "### Instructors (challenge)\n",
    "\n",
    "Allow the class to take a splat argument `instructors` that will take any number of strings and store them as a list of instructors.\n",
    "\n",
    "Modify the way you track attendance in the `StanfordCourse` class to map a Python date object (you can use the `datetime` module) to a data structure tracking what students are there on that day."
   ]
  },
  {
   "cell_type": "markdown",
   "metadata": {},
   "source": [
    "### Instructors (challenge)\n",
    "\n",
    "Allow the class to take a splat argument `instructors` that will take any number of strings and store them as a list of instructors.\n",
    "\n",
    "Modify the way you track attendance in the `StanfordCourse` class to map a Python date object (you can use the `datetime` module) to a data structure tracking what students are there on that day."
   ]
  },
  {
   "cell_type": "markdown",
   "metadata": {},
   "source": [
    "## SimpleGraph"
   ]
  },
  {
   "cell_type": "markdown",
   "metadata": {},
   "source": [
    "In this part, you'll build the implementation for a SimpleGraph class in Python whose functionality imitates that of the BasicGraph class in the Stanford CPP libraries.\n",
    "\n",
    "In particular, you will need to define a `Vertex` class, an `Edge` class, and a `SimpleGraph` class. The specification is as follows:\n",
    "\n",
    "A `Vertex` has attributes:\n",
    "\n",
    "* `name`, a string representing the label of the vertex.\n",
    "* `edges`, a set representing edges outbound from this vertex to its neighbors\n",
    "\n",
    "A new Vertex should be initialized with an optional `name`, which defaults to `\"\"`, and should be initialized with an empty edge set.\n",
    "\n",
    "An `Edge` has attributes:\n",
    "\n",
    "* `start`, a `Vertex` representing the start point of the edge.\n",
    "* `end`, a `Vertex` representing the end point of the edge.\n",
    "* `cost`, a `float` (used for graph algorithms) representing the weight of the edge.\n",
    "* `visited`, a `bool` (used for graph algorithms) representing whether this edge has been visited before.\n",
    "\n",
    "Note that for our purposes, an `Edge` is directed.\n",
    "\n",
    "An `Edge` requires a `start` and `end` vertex in order to be instantiated. `cost` should default to 1, and `visited` should default to `False`, but both should be able to be set via an initializer.\n",
    "\n",
    "A `SimpleGraph` has attributes\n",
    "\n",
    "* `verts`, a collection of `Vertex`s (you need to decide the collection type)\n",
    "* `edges`, a collection of `Edge`s (you need to decide the collection type)\n",
    "\n",
    "as well as several methods:\n",
    "\n",
    "* `graph.add_vertex(v)`\n",
    "* `graph.add_edge(v_1, v_2)`\n",
    "* `graph.contains_vertex(v)`\n",
    "* `graph.contains_edge(v_1, v_2)`\n",
    "* `graph.get_neighbors(v)`\n",
    "* `graph.is_empty()`\n",
    "* `graph.size()`\n",
    "* `graph.remove_vertex(v)`\n",
    "* `graph.remove_edge(v_1, v_2)`\n",
    "* `graph.is_neighbor(v1, v2)`\n",
    "* `graph.is_reachable(v1, v2)  # Use any algorithm you like`\n",
    "* `graph.clear_all()`\n",
    "\n",
    "The actual implementation details are up to you.\n",
    "\n",
    "*Note: debugging will significantly easier if you write `__str__` or `__repr__` methods on your custom classes.*"
   ]
  },
  {
   "cell_type": "markdown",
   "metadata": {},
   "source": [
    "### Challenge: Graph Algorithms\n",
    "\n",
    "If you're feeling up to the challenge, and you have sufficient time, implement other graph algorithms, including those covered in CS106B/X, using your SimpleGraph. The point isn't to check whether you still know your graph algorithms - rather, these algorithms will serve to test the correctness of your graph implementation. The particulars are up to you.\n",
    "\n",
    "As some suggestions:\n",
    "\n",
    "* Longest path\n",
    "* D'ijkstras Algorithm\n",
    "* A*\n",
    "* Max Flow\n",
    "* K-Clique\n",
    "* Largest Connected Component\n",
    "* is_bipartite\n",
    "* hamiltonian_path_exists\n",
    "\n",
    "```\n",
    "graph = SimpleGraph()\n",
    "# Your extension code here\n"
   ]
  },
  {
   "cell_type": "markdown",
   "metadata": {},
   "source": [
    "### Challenge: Using Magic Methods\n",
    "\n",
    "See if you can rewrite the `SimpleGraph` class using magic methods to emulate the behavior and operators of standard Python. In particular,\n",
    "\n",
    "```\n",
    "graph[v]  # returns neighbors of v\n",
    "graph[v] = v_2  # Insert an edge from v to v2\n",
    "len(graph)\n",
    "# etc\n",
    "```\n"
   ]
  },
  {
   "cell_type": "markdown",
   "metadata": {},
   "source": [
    "## Timed Key-Value Store (challenge)\n",
    "\n",
    "Let's build an interesting data structure straight out of an interview programming challenge from [Stripe](https://stripe.com/). This is more of an algorithms challenge than a Python challenge, but we hope you're still interested in tackling it.\n",
    "\n",
    "At a high-level, we'll be building a key-value store (think `dict` or Java's `HashMap`) that has a `get` method that takes an optional second parameter as a `time` object in Python to return the most recent value before that period in time. If no key-value pair was added to the map before that period in time, return `None`.\n",
    "\n",
    "For consistency’s sake, let’s call this class `TimedKVStore` and put it into a file called `kv_store.py`\n",
    "\n",
    "You’ll need some sort of `time` object to track when key-value pairs are getting added to this map. Consider using the `time` module from Python [Docs](https://docs.python.org/2/library/time.html)\n",
    "\n",
    "To give you an idea of how this class works, this is what should happen after you implement `TimedKVStore`.\n",
    "\n",
    "```\n",
    ">>> from kv_store import *\n",
    ">>> d = TimedKVStore()\n",
    ">>> t0 = time.time()\n",
    ">>> d.put(\"1\", 1)\n",
    ">>> t1 = time.time()\n",
    ">>> d.put(\"1\", 1.1)\n",
    ">>> d.get(\"1\")\n",
    "1.1\n",
    ">>> d.get(\"1\", t1)\n",
    "1\n",
    ">>> d.get(\"1\", t0)\n",
    "None\n",
    "```"
   ]
  },
  {
   "cell_type": "markdown",
   "metadata": {},
   "source": [
    "### Remove (challenge)\n",
    "\n",
    "Implement a method called `remove(key)` that takes a key and removes that entire key from the key-value store.\n",
    "\n",
    "Write another `remove(key, time)` method that takes a key and removes all memory of values before that time method.\n"
   ]
  },
  {
   "cell_type": "markdown",
   "metadata": {},
   "source": [
    "## Inheritance"
   ]
  },
  {
   "cell_type": "markdown",
   "metadata": {},
   "source": [
    "Consider the following code:\n",
    "\n",
    "```\n",
    "\"\"\"Examples of Single Inheritance\"\"\"\n",
    "class Transportation:\n",
    "    wheels = 0\n",
    "\n",
    "    def __init__(self):\n",
    "        self.wheels = -1\n",
    "\n",
    "    def travel_one(self):\n",
    "        print(\"Travelling on generic transportation\")\n",
    "\n",
    "    def travel(self, distance):\n",
    "        for _ in range(distance):\n",
    "            self.travel_one()\n",
    "\n",
    "    def is_auto(self):\n",
    "        return self.wheels == 4\n",
    "\n",
    "class Bike(Transportation):\n",
    "\n",
    "    def travel_one(self):\n",
    "        print(\"Biking one mile\")\n",
    "\n",
    "class Car(Transportation):\n",
    "    wheels = 4\n",
    "\n",
    "    def travel_one(self):\n",
    "        print(\"Driving one mile\")\n",
    "\n",
    "    def make_sound(self):\n",
    "        print(\"VROOM\")\n",
    "\n",
    "class Ferrari(Car):\n",
    "    pass\n",
    "\n",
    "t = Transportation()\n",
    "b = Bike()\n",
    "c = Car()\n",
    "f = Ferrari()\n",
    "```\n",
    "\n",
    "Predict the outcome of each of the following lines of code.\n",
    "\n",
    "```\n",
    "isinstance(t, Transportation)\n",
    "\n",
    "isinstance(b, Bike)\n",
    "isinstance(b, Transportation)\n",
    "isinstance(b, Car)\n",
    "isinstance(b, t)\n",
    "\n",
    "isinstance(c, Car)\n",
    "isinstance(c, Transportation)\n",
    "\n",
    "isinstance(f, Ferrari)\n",
    "isinstance(f, Car)\n",
    "isinstance(f, Transportation)\n",
    "\n",
    "issubclass(Bike, Transportation)\n",
    "issubclass(Car, Transportation)\n",
    "issubclass(Ferrari, Car)\n",
    "issubclass(Ferrari, Transportation)\n",
    "issubclass(Transportation, Transportation)\n",
    "\n",
    "b.travel(5)\n",
    "c.is_auto()\n",
    "f.is_auto()\n",
    "b.is_auto()\n",
    "b.make_sound()\n",
    "c.travel(10)\n",
    "f.travel(4)\n",
    "```"
   ]
  },
  {
   "cell_type": "markdown",
   "metadata": {},
   "source": [
    "## Bloom Filter (challenge)"
   ]
  },
  {
   "cell_type": "markdown",
   "metadata": {},
   "source": [
    "A bloom filter is a fascinating data structure that support insertion and probabilistic set membership. Read up on Wikipedia!\n",
    "\n",
    "Write a class `BloomFilter` to implement a bloom filter data structure. Override the `__contains__` method so that membership can be tested with `x in bloom_filter`."
   ]
  },
  {
   "cell_type": "markdown",
   "metadata": {},
   "source": [
    "## Silencer Context Manager (challenge)"
   ]
  },
  {
   "cell_type": "markdown",
   "metadata": {},
   "source": [
    "In some cases, you may want to suppress the output a given code block. Maybe it's untrusted code, or maybe it's littered with `print`s that you don't want to comment out. We can use the context manager syntax in Python to define a class that serves as a context manager. We want to use this as:\n",
    "\n",
    "```\n",
    "with Silencer():\n",
    "    noisy_code()\n",
    "```\n",
    "\n",
    "Our class will look something like\n",
    "\n",
    "```\n",
    "class Silencer():\n",
    "    def __init__(self):\n",
    "        pass\n",
    "        \n",
    "    def __enter__(self):\n",
    "        pass\n",
    "        \n",
    "    def __exit__(self, *exc):\n",
    "        pass\n",
    "```\n",
    "\n",
    "The `__enter__` method is called when the with block is entered, and `__exit__` is called when leaving the block, with any relevant information about an active exception passed in. Write the `__enter__` method to redirect standard output and standard error to stringio.StringIO() objects to capture the output, and make sure that `__exit__` restored the saved stdout and stderr. What would a `__str__` method on a Silencer object look like?\n",
    "\n",
    "Recall that the with statement in Python is *almost* implemented as:\n",
    "\n",
    "```\n",
    "with open(filename) as f:\n",
    "    raw = f.read()\n",
    "# is (almost) equivalent to\n",
    "f = open(filename)\n",
    "f.__enter__()\n",
    "try:\n",
    "    raw = f.read()\n",
    "finally:\n",
    "    f.__exit__()  # Closes the file\n"
   ]
  },
  {
   "cell_type": "markdown",
   "metadata": {},
   "source": [
    "## Exceptions"
   ]
  },
  {
   "cell_type": "markdown",
   "metadata": {},
   "source": [
    "### Reading\n",
    "\n",
    "Skim over [Python's documentation on built-in exceptions](https://docs.python.org/3.4/library/exceptions.html)."
   ]
  },
  {
   "cell_type": "markdown",
   "metadata": {},
   "source": [
    "### `try`/`except`/`else`/`finally`\n",
    "\n",
    "Python provides `try` and `except` blocks , similar to other languages' `try` and `catch` blocks, for basic exceptional control flow."
   ]
  },
  {
   "cell_type": "markdown",
   "metadata": {},
   "source": [
    "#### `get_age`\n",
    "\n",
    "Write a function `get_age` that asks a user for their age, which must be a positive integer between 0 and 123 (the oldest human recorded, Jeanna Clement, died at the age of 122). If the user enters something that's not an integer, you should reprompt them. However, if they enter an integer and it's out of range, you should raise an exception. That is, you should keep reprompting them until they enter something that can be converted into an integer, and then return that number if it's in range, and raise an exception otherwise. Two sample runs are shown below\n",
    "\n",
    "```\n",
    "# (Call 1)\n",
    "How old are you? ABC\n",
    "Invalid integer input.\n",
    "How old are you? -4.5\n",
    "Invalid integer input.\n",
    "How old are you? 36\n",
    "# returns 36\n",
    "\n",
    "# (Call 2)\n",
    "How old are you? XYZ\n",
    "Invalid integer input.\n",
    "How old are you? 128\n",
    "# raises some exception\n",
    "Traceback (most recent call last):\n",
    "  File \"<stdin>\", line 1, in <module>\n",
    "ValueError: Age 128 out of range\n",
    "```\n"
   ]
  },
  {
   "cell_type": "markdown",
   "metadata": {},
   "source": [
    "### Custom Exceptions\n",
    "\n",
    "Write a custom exception class called `OutOfRangeError` that inherits from `ValueError` which indicates that a given value is outside of an acceptable range. What does this class definition look like? What is the body of the class?\n",
    "\n",
    "``` \n",
    "# Implement OutOfRangeError\n",
    "```\n",
    "\n",
    "Rewrite your code in `get_age` to use this custom exception. Do you need to change any other code?\n"
   ]
  },
  {
   "cell_type": "markdown",
   "metadata": {},
   "source": [
    "### Using `else` and `finally`\n",
    "\n",
    "Rewrite your `get_age` function to use the `else` block, and optionally the `finally` block. As is consistent with general style guidelines, try to keep the `try` block as short as possible, containing just the code that might raise the exception you're trying to catch.\n"
   ]
  },
  {
   "cell_type": "markdown",
   "metadata": {},
   "source": [
    "### Reraising\n",
    "\n",
    "Consider the following code:\n",
    "\n",
    "```\n",
    "try:\n",
    "\tprint(\"in try\")\n",
    "\t# (A)\n",
    "except Exception as exc:\n",
    "\tprint(\"in except\")\n",
    "\t# (B)\n",
    "else:\n",
    "\tprint(\"in else\")\n",
    "\t# (C)\n",
    "finally:\n",
    "    print(\"in finally\")\n",
    "    # (D)\n",
    "```\n",
    "\n",
    "We're going to add some errors to this code block, which currently prints out\n",
    "\n",
    "```\n",
    "in try\n",
    "in else\n",
    "in finally\n",
    "```\n",
    "\n",
    "For each of the labelled locations `(A), (B), (C), (D)`, which statements print out if we `raise Exception()` at that position? Run the code to test your hypotheses."
   ]
  },
  {
   "cell_type": "markdown",
   "metadata": {},
   "source": [
    "> With <3 by @sredmond"
   ]
  }
 ],
 "metadata": {
  "kernelspec": {
   "display_name": "Python 3",
   "language": "python",
   "name": "python3"
  },
  "language_info": {
   "codemirror_mode": {
    "name": "ipython",
    "version": 3
   },
   "file_extension": ".py",
   "mimetype": "text/x-python",
   "name": "python",
   "nbconvert_exporter": "python",
   "pygments_lexer": "ipython3",
   "version": "3.7.2"
  }
 },
 "nbformat": 4,
 "nbformat_minor": 2
}
